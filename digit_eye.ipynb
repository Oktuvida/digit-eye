{
 "cells": [
  {
   "attachments": {},
   "cell_type": "markdown",
   "metadata": {},
   "source": [
    "# Digit Eye\n"
   ]
  },
  {
   "cell_type": "code",
   "execution_count": 1,
   "metadata": {},
   "outputs": [
    {
     "name": "stderr",
     "output_type": "stream",
     "text": [
      "/home/anamnesis/Documents/UR/Aprendizaje Automático de Máquina/Proyecto Final/.venv/lib64/python3.11/site-packages/tqdm/auto.py:21: TqdmWarning: IProgress not found. Please update jupyter and ipywidgets. See https://ipywidgets.readthedocs.io/en/stable/user_install.html\n",
      "  from .autonotebook import tqdm as notebook_tqdm\n",
      "Found cached dataset cifar10 (/home/anamnesis/.cache/huggingface/datasets/cifar10/plain_text/1.0.0/447d6ec4733dddd1ce3bb577c7166b986eaa4c538dcd9e805ba61f35674a9de4)\n",
      "Found cached dataset cifar10 (/home/anamnesis/.cache/huggingface/datasets/cifar10/plain_text/1.0.0/447d6ec4733dddd1ce3bb577c7166b986eaa4c538dcd9e805ba61f35674a9de4)\n"
     ]
    },
    {
     "name": "stdout",
     "output_type": "stream",
     "text": [
      "\n",
      "N° Epoch 0\n",
      "Trainning loss: 0.013857526664733886\tAccuracy: 0.38161998987197876\n",
      "Test loss: 0.015020396995544433\tAccuracy: 0.3555000126361847\n",
      "Best Accuracy Found: -inf -> 0.3555000126361847. Saving Model...\n",
      "\n",
      "N° Epoch 1\n",
      "Trainning loss: 0.012246523303985596\tAccuracy: 0.4535999894142151\n",
      "Test loss: 0.013573711752891541\tAccuracy: 0.41100001335144043\n",
      "Best Accuracy Found: 0.3555000126361847 -> 0.41100001335144043. Saving Model...\n",
      "\n",
      "N° Epoch 2\n",
      "Trainning loss: 0.011494333777427673\tAccuracy: 0.48767998814582825\n",
      "Test loss: 0.01151046404838562\tAccuracy: 0.4814000129699707\n",
      "Best Accuracy Found: 0.41100001335144043 -> 0.4814000129699707. Saving Model...\n",
      "\n",
      "N° Epoch 3\n",
      "Trainning loss: 0.01099975510597229\tAccuracy: 0.5074599981307983\n",
      "Test loss: 0.012609583389759064\tAccuracy: 0.4514999985694885\n",
      "\n",
      "N° Epoch 4\n",
      "Trainning loss: 0.010704677309989929\tAccuracy: 0.5217800140380859\n",
      "Test loss: 0.013580440509319305\tAccuracy: 0.4196999967098236\n",
      "\n",
      "N° Epoch 5\n",
      "Trainning loss: 0.010487741627693177\tAccuracy: 0.5311200022697449\n",
      "Test loss: 0.01135592736005783\tAccuracy: 0.4968999922275543\n",
      "Best Accuracy Found: 0.4814000129699707 -> 0.4968999922275543. Saving Model...\n",
      "\n",
      "N° Epoch 6\n",
      "Trainning loss: 0.010257134010791778\tAccuracy: 0.5433800220489502\n",
      "Test loss: 0.014273978328704834\tAccuracy: 0.4138999879360199\n",
      "\n",
      "N° Epoch 7\n",
      "Trainning loss: 0.010109155042171478\tAccuracy: 0.5499399900436401\n",
      "Test loss: 0.011700665187835694\tAccuracy: 0.48249998688697815\n",
      "\n",
      "N° Epoch 8\n",
      "Trainning loss: 0.009975507011413575\tAccuracy: 0.5561800003051758\n",
      "Test loss: 0.015012145709991456\tAccuracy: 0.39899998903274536\n",
      "\n",
      "N° Epoch 9\n",
      "Trainning loss: 0.009858902158737182\tAccuracy: 0.5611199736595154\n",
      "Test loss: 0.011293033254146576\tAccuracy: 0.5040000081062317\n",
      "Best Accuracy Found: 0.4968999922275543 -> 0.5040000081062317. Saving Model...\n",
      "\n",
      "Validation loss: 0.011293033254146576\tAccuracy: 0.5040000081062317\n"
     ]
    }
   ],
   "source": [
    "%load_ext autoreload\n",
    "%autoreload 2\n",
    "import torch\n",
    "\n",
    "from datasets import load_dataset\n",
    "from torch.utils.data import DataLoader, Dataset\n",
    "from typing import cast\n",
    "\n",
    "from src.models import Cifar10Model\n",
    "\n",
    "torch.manual_seed(1)\n",
    "\n",
    "dataset_id = \"cifar10\"\n",
    "def load_torch_dataset(split: str):\n",
    "    dataset = load_dataset(dataset_id, split = split).with_format(\"torch\") # type: ignore\n",
    "    return cast(Dataset, dataset)\n",
    "\n",
    "train_set = load_torch_dataset(\"train\")\n",
    "test_set = load_torch_dataset(\"test\")\n",
    "\n",
    "def collate_fn(batches):\n",
    "    features = torch.stack([batch[\"img\"] for batch in batches])\n",
    "    labels = torch.tensor([batch[\"label\"] for batch in batches])\n",
    "    return features.float(), labels.long()\n",
    "\n",
    "batch_size = 128\n",
    "train_loader = DataLoader(dataset=train_set, batch_size=batch_size, shuffle=True, collate_fn=collate_fn)\n",
    "test_loader = DataLoader(dataset=test_set, batch_size=batch_size, shuffle=False, collate_fn=collate_fn)\n",
    "\n",
    "\n",
    "model_path = \"./assets/digit_eye\"\n",
    "model = Cifar10Model(path=model_path)\n",
    "\n",
    "model.train(epochs=10, train_loader=train_loader, test_loader=test_loader)\n",
    "model.load_weights()\n",
    "model.evaluate(test_loader)\n"
   ]
  }
 ],
 "metadata": {
  "kernelspec": {
   "display_name": ".venv",
   "language": "python",
   "name": "python3"
  },
  "language_info": {
   "codemirror_mode": {
    "name": "ipython",
    "version": 3
   },
   "file_extension": ".py",
   "mimetype": "text/x-python",
   "name": "python",
   "nbconvert_exporter": "python",
   "pygments_lexer": "ipython3",
   "version": "3.11.3"
  },
  "orig_nbformat": 4
 },
 "nbformat": 4,
 "nbformat_minor": 2
}
